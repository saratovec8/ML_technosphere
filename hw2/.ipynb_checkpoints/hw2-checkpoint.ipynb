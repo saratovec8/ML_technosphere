{
 "cells": [
  {
   "cell_type": "markdown",
   "metadata": {},
   "source": [
    "# Алгоритмы интеллектуальной обработки больших объемов данных\n",
    "## Домашнее задание №2: Линейные модели\n"
   ]
  },
  {
   "cell_type": "markdown",
   "metadata": {},
   "source": [
    "###### <hr\\>\n",
    "**Общая информация**\n",
    "\n",
    "**Срок сдачи:** 09 ноября 18:00 Сдача **очная** на онлайн занятии. <br\\>\n",
    "\n",
    "\n",
    "Используйте данный Ipython Notebook при оформлении домашнего задания.\n",
    "\n",
    "Присылать ДЗ необходимо в виде ссылки на свой github репозиторий на почту ml1.sphere@mail.ru с указанием темы в следующем формате:\n",
    "\n",
    "[ML0920, Задание 2] Фамилия Имя.\n",
    "\n",
    "\n",
    "\n",
    "**Штрафные баллы:**\n",
    "\n",
    "1. Невыполнение PEP8 -1 балл\n",
    "2. Отсутствие фамилии в имени скрипта (скрипт должен называться по аналогии со stroykova_hw2.ipynb) -1 балл\n",
    "3. Все строчки должны быть выполнены. Нужно, чтобы output команды можно было увидеть уже в git'е. В противном случае -1 балл\n",
    "4. При оформлении ДЗ нужно пользоваться данным файлом в качестве шаблона. Не нужно удалять и видоизменять написанный код и текст, если явно не указана такая возможность. В противном случае -1 балл\n",
    "<hr\\>"
   ]
  },
  {
   "cell_type": "code",
   "execution_count": 114,
   "metadata": {},
   "outputs": [],
   "source": [
    "import pandas as pd\n",
    "import numpy as np\n",
    "import matplotlib.pyplot as plt\n",
    "import matplotlib.pyplot as plt\n",
    "import seaborn as sns\n",
    "from sklearn.base import BaseEstimator, ClassifierMixin\n",
    "%matplotlib inline\n",
    "\n",
    "plt.style.use('ggplot')\n",
    "plt.rcParams['figure.figsize'] = (12,5)"
   ]
  },
  {
   "cell_type": "markdown",
   "metadata": {},
   "source": [
    "Здравствуйте, уважаемые студенты! \n",
    "\n",
    "В этом задании мы будем реализовать линейные модели. Необходимо реализовать линейную и логистическую регрессии с L2 регуляризацией"
   ]
  },
  {
   "cell_type": "markdown",
   "metadata": {},
   "source": [
    "# Теоретическое введение\n",
    "\n"
   ]
  },
  {
   "cell_type": "markdown",
   "metadata": {},
   "source": [
    "Линейная регрессия решает задачу регрессии и оптимизирует функцию потерь MSE \n",
    "\n",
    "$$L(w) =  \\frac{1}{N}\\left[\\sum_i (y_i - a_i) ^ 2 \\right], $$ где $y_i$ $-$ целевая функция,  $a_i = a(x_i) =  \\langle\\,x_i,w\\rangle ,$ $-$ предсказание алгоритма на объекте $x_i$, $w$ $-$ вектор весов (размерности $D$), $x_i$ $-$ вектор признаков (такой же размерности $D$).\n",
    "\n",
    "Не забываем, что здесь и далее  мы считаем, что в $x_i$ есть тождественный вектор единиц, ему соответствует вес $w_0$.\n"
   ]
  },
  {
   "cell_type": "markdown",
   "metadata": {},
   "source": [
    "Логистическая регрессия является линейным классификатором, который оптимизирует так называемый функционал log loss:"
   ]
  },
  {
   "cell_type": "markdown",
   "metadata": {},
   "source": [
    "$$L(w) = - \\frac{1}{N}\\left[\\sum_i y_i \\log a_i + ( 1 - y_i) \\log (1 - a_i) \\right],$$\n",
    "где  $y_i  \\in \\{0,1\\}$ $-$ метка класса, $a_i$ $-$ предсказание алгоритма на объекте $x_i$. Модель пытается предсказать апостериорую вероятность объекта принадлежать к классу \"1\":\n",
    "$$ p(y_i = 1 | x_i) = a(x_i) =  \\sigma( \\langle\\,x_i,w\\rangle ),$$\n",
    "$w$ $-$ вектор весов (размерности $D$), $x_i$ $-$ вектор признаков (такой же размерности $D$).\n",
    "\n",
    "Функция $\\sigma(x)$ $-$ нелинейная функция, пероводящее скалярное произведение объекта на веса в число $\\in (0,1)$ (мы же моделируем вероятность все-таки!)\n",
    "\n",
    "$$\\sigma(x) = \\frac{1}{1 + \\exp(-x)}$$\n",
    "\n",
    "Если внимательно посмотреть на функцию потерь, то можно заметить, что в зависимости от правильного ответа алгоритм штрафуется или функцией $-\\log a_i$, или функцией $-\\log (1 - a_i)$.\n",
    "\n"
   ]
  },
  {
   "cell_type": "markdown",
   "metadata": {},
   "source": [
    "Часто для решения проблем, которые так или иначе связаны с проблемой переобучения, в функционал качества добавляют слагаемое, которое называют ***регуляризацией***. Итоговый функционал для линейной регрессии тогда принимает вид:\n",
    "\n",
    "$$L(w) =  \\frac{1}{N}\\left[\\sum_i (y_i - a_i) ^ 2 \\right] + \\frac{1}{C}R(w) $$\n",
    "\n",
    "Для логистической: \n",
    "$$L(w) = - \\frac{1}{N}\\left[\\sum_i y_i \\log a_i + ( 1 - y_i) \\log (1 - a_i) \\right] +  \\frac{1}{C}R(w)$$\n",
    "\n",
    "Самое понятие регуляризации введено основателем ВМК академиком Тихоновым https://ru.wikipedia.org/wiki/Метод_регуляризации_Тихонова\n",
    "\n",
    "Идейно методика регуляризации заключается в следующем $-$ мы рассматриваем некорректно поставленную задачу (что это такое можно найти в интернете), для того чтобы сузить набор различных вариантов (лучшие из которых будут являться переобучением ) мы вводим дополнительные ограничения на множество искомых решений. На лекции Вы уже рассмотрели два варианта регуляризации.\n",
    "\n",
    "$L1$ регуляризация:\n",
    "$$R(w) = \\sum_{j=1}^{D}|w_j|$$\n",
    "$L2$ регуляризация:\n",
    "$$R(w) =  \\sum_{j=1}^{D}w_j^2$$\n",
    "\n",
    "С их помощью мы ограничиваем модель в  возможности выбора каких угодно весов минимизирующих наш лосс, модель уже не сможет подстроиться под данные как ей угодно. \n",
    "\n",
    "Вам нужно добавить соотвествущую Вашему варианту $L2$ регуляризацию.\n",
    "\n",
    "И так, мы поняли, какую функцию ошибки будем минимизировать, разобрались, как получить предсказания по объекту и обученным весам. Осталось разобраться, как получить оптимальные веса. Для этого нужно выбрать какой-то метод оптимизации.\n",
    "\n"
   ]
  },
  {
   "cell_type": "markdown",
   "metadata": {},
   "source": [
    "Градиентный спуск является самым популярным алгоритмом обучения линейных моделей. В этом задании Вам предложат реализовать стохастический градиентный спуск или  мини-батч градиентный спуск (мини-батч на русский язык довольно сложно перевести, многие переводят это как \"пакетный\", но мне не кажется этот перевод удачным). Далее нам потребуется определение **эпохи**.\n",
    "Эпохой в SGD и MB-GD называется один проход по **всем** объектам в обучающей выборки.\n",
    "* В SGD градиент расчитывается по одному случайному объекту. Сам алгоритм выглядит примерно так:\n",
    "        1) Перемешать выборку\n",
    "        2) Посчитать градиент функции потерь на одном объекте (далее один объект тоже будем называть батчем)\n",
    "        3) Сделать шаг спуска\n",
    "        4) Повторять 2) и 3) пока не пройдет максимальное число эпох.\n",
    "* В Mini Batch SGD - по подвыборке объектов. Сам алгоритм выглядит примерно так::\n",
    "        1) Перемешать выборку, выбрать размер мини-батча (от 1 до размера выборки)\n",
    "        2) Почитать градиент функции потерь по мини-батчу (не забыть поделить на  число объектов в мини-батче)\n",
    "        3) Сделать шаг спуска\n",
    "        4) Повторять 2) и 3) пока не пройдет максимальное число эпох.\n",
    "* Для отладки алгоритма реализуйте возможность  вывода средней ошибки на обучении модели по объектам (мини-батчам). После шага градиентного спуска посчитайте значение ошибки на объекте (или мини-батче), а затем усредните, например, по ста шагам. Если обучение проходит корректно, то мы должны увидеть, что каждые 100 шагов функция потерь уменьшается. \n",
    "* Правило останова - максимальное количество эпох\n",
    "    \n"
   ]
  },
  {
   "cell_type": "markdown",
   "metadata": {},
   "source": [
    "# Теоретические вопросы (2 балла)\n",
    "В этой части Вам будут предложены теоретичские вопросы и задачи по теме. Вы, конечно, можете списать их у своего товарища или найти решение в интернете, но учтите, что они обязательно войдут в теоретический коллоквиум. Лучше разобраться в теме сейчас и успешно ответить на коллоквиуме, чем списать, не разобравшись в материале, и быть терзаемым совестью. \n",
    "\n",
    "\n",
    "Формулы надо оформлять в формате **LaTeX**."
   ]
  },
  {
   "cell_type": "markdown",
   "metadata": {},
   "source": [
    "**Задача 1. Градиент для линейной регрессии..**\n",
    "* Выпишите формулу обновления весов для линейной регрессии с L2 регуляризацией для мини-батч градиентого спуска размера $n$:\n",
    "\n",
    "$$ w_{new} = w_{old} - ... $$\n",
    "\n",
    " Отнеситесь к этому пункту максимально серьезно, это Вам нужно будет реализовать в задании.\n",
    " \n",
    "Проанализруйте итоговую формулу градиента - как  интуитивно можно  описать, чему равен градиент?"
   ]
  },
  {
   "cell_type": "markdown",
   "metadata": {},
   "source": [
    "***Ваше решение здесь***"
   ]
  },
  {
   "cell_type": "markdown",
   "metadata": {},
   "source": [
    "Будем рассматривть следующую модель линейной регрессии:\n",
    "$$ a(x_{i}, w) = \\sum_{j = 0}^{D} x_{ij}w_{j}$$\n",
    "Не забываем, что здесь и далее  мы считаем, что $x_{i0}$ есть тождественный вектор единиц, ему соответствует вес $w_0$.\n",
    "В первую очередь рассматрим задачу нахождения градиента $L2-$регуляризованной функции потерь $L(w)$.\n",
    "$$L(w)= \\frac{1}{n}\\sum_{i = 0}^{n-1} (y_{i} - a_{i})^{2} + \\frac{1}{C}\\sum_{j = 1}^{D}w_{j}^{2}$$ \n",
    "\n",
    "В матричном виде :\n",
    "\n",
    "$$L(w)= \\frac{1}{n}({\\overrightarrow{y} - X\\overrightarrow{w}})({\\overrightarrow{y}^T  - \\overrightarrow{w}^TX^T}) + \\frac{1}{C}\\overrightarrow{w^*}\\overrightarrow{w^*}^{T} =$$\n",
    "$$= \\frac{1}{n}(\\overrightarrow{y}\\overrightarrow{y}^T - \\overrightarrow{y}\\overrightarrow{w}^TX^T -  X\\overrightarrow{w}\\overrightarrow{y}^T + X\\overrightarrow{w}\\overrightarrow{w}^TX^{T}) + \\frac{1}{C}\\overrightarrow{w^*}\\overrightarrow{w^*}^{T}$$\n",
    "$$\\nabla{L(w)} = \\frac{2}{n}X^T(X\\overrightarrow{w}- \\overrightarrow{y}) + \\frac{2}{C}\\overrightarrow{w^*}$$\n",
    "Тогда формула обновления весов для линейной регрессии с $L2$ регуляризацией и скоростью спуска $\\eta$ выглядет так : \n",
    "$$\\overrightarrow{w} := \\overrightarrow{w} - {\\eta}(\\frac{2}{n}X^T(X\\overrightarrow{w}- \\overrightarrow{y}) + \\frac{2}{C}\\overrightarrow{w^*})$$"
   ]
  },
  {
   "cell_type": "markdown",
   "metadata": {},
   "source": [
    "**Задача 2. Градиент для логистической регрессии.**\n",
    "* Выпишите формулу обновления весов для логистической регрессии с L2 регуляризацией  для мини-батч градиентого спуска размера $n$:\n",
    "\n",
    "$$ w_{new} = w_{old} - ... $$\n",
    "\n",
    " Отнеситесь к этому пункту максимально серьезно, это Вам нужно будет реализовать в задании.\n",
    " \n",
    "Проанализруйте итоговую формулу градиента - как  интуитивно можно  описать, чему равен градиент? Как соотносится этот градиент с градиентом, возникающий в задаче линейной регрессии?\n",
    "\n",
    "Подсказка: Вам градиент, которой получается если “в лоб” продифференцировать,  надо немного преобразовать.\n",
    "Надо подставить, что $1 - \\sigma(w,x) $ это  $1 - a(x_i)$, а  $-\\sigma(w,x)$ это $0 - a(x_i)$.  Тогда получится свести к одной красивой формуле с линейной регрессией, которую программировать будет намного проще."
   ]
  },
  {
   "cell_type": "markdown",
   "metadata": {},
   "source": [
    "***Ваше решение здесь***"
   ]
  },
  {
   "cell_type": "markdown",
   "metadata": {},
   "source": [
    "\n",
    "$$\\dfrac{\\partial L(w)}{\\partial w_j}= -\\frac{\\partial}{\\partial w_j}\\left(\\frac{1}{n}\\left[\\sum_i^n y_i \\log \\sigma(\\langle x_i,w \\rangle) + ( 1 - y_i) \\log (1 - \\sigma(\\langle x_i,w \\rangle))\\right] + \\frac{1}{C}\\sum_{i = 1}^{D}w_{j}^{2}\\right) = $$\n",
    "\n",
    "$$= - \\frac{1}{n}\\sum_i^n \\left[ y_i \\frac{\\partial \\log  \\sigma( \\langle x_i, w \\rangle )}{\\partial w_j}  + ( 1 - y_i)\\frac{\\partial \\log (1 -  \\sigma( \\langle x_i, w \\rangle ))}{\\partial w_j} \\right] + \\frac{2}{C}w_j =\n",
    "\\begin{vmatrix}\n",
    "{}\\\\\n",
    "\\sigma^\\prime (x) = \\sigma(x)(1 - \\sigma(x))\\\\\n",
    "{}\n",
    "\\end{vmatrix}\n",
    "=\n",
    "$$\n",
    "\n",
    "$$ = -\\frac{1}{n} \\left[ \\sum_i^n y_ix_{ij}\\frac{\\sigma(\\langle x_i,w \\rangle)(1 - \\sigma(\\langle x_i,w \\rangle)}{\\sigma(\\langle x_i,w \\rangle)} - (1-y_i)x_{ij}\\frac{\\sigma(\\langle x_i,w \\rangle))(1 - \\sigma(\\langle x_i,w \\rangle))}{(1 - \\sigma(\\langle x_i,w \\rangle))}\\right]+ \\frac{2}{C}w_j = $$\n",
    "$$= \\frac{1}{n} \\left[ \\sum_i^n x_{ij}\\sigma(\\langle x_i,w \\rangle) - y_ix_{ij} \\right] + \\frac{2}{C}w_j$$\n",
    "$$\\nabla{L(w)} = \\frac{1}{n}X^T(\\overrightarrow{\\sigma}(X\\overrightarrow{w})- \\overrightarrow{y}) + \\frac{2}{C}\\overrightarrow{w^*}$$\n",
    "Тогда формула обновления весов для линейной регрессии с $L2$ регуляризацией и скоростью спуска $\\eta$ выглядет так : \n",
    "$$\\overrightarrow{w} := \\overrightarrow{w} - {\\eta}( \\frac{1}{n}X^T(\\overrightarrow{\\sigma}(X\\overrightarrow{w})- \\overrightarrow{y}) + \\frac{2}{C}\\overrightarrow{w^*})$$"
   ]
  },
  {
   "cell_type": "markdown",
   "metadata": {},
   "source": [
    "**Задача 3. Точное решение линейной регрессии**\n",
    "\n",
    "На лекции было показано, что точное решение линейной регрессии имеет вид $w = (X^TX)^{-1}X^TY $. \n",
    "* Покажите, что это действительно является точкой минимума в случае, если матрица X имеет строк не меньше, чем столбцов и имеет полный ранг. Подсказка: посчитайте Гессиан и покажите, что в этом случае он положительно определен. \n",
    "* Выпишите точное решение для модели с $L2$ регуляризацией. Как L2 регуляризация помогает с точным решением где матрица X имеет линейно зависимые признаки?"
   ]
  },
  {
   "cell_type": "markdown",
   "metadata": {},
   "source": [
    "***Ваше решение здесь***"
   ]
  },
  {
   "cell_type": "markdown",
   "metadata": {},
   "source": [
    "\n",
    "Функция $L(w)$ достигает минимума в точке, если:\n",
    "$$ \n",
    "\\nabla_{w}L(w) = \\vec 0 \n",
    "$$\n",
    "$$\n",
    "H(L(w))> 0 \n",
    "$$\n",
    "Здесь  $H(L(w))$ - Гессиан функции ошибок $L(w)$. \n",
    "$$\n",
    "L(w) = \\frac{1}{n} \\| wx^T - y \\| = \\frac{1}{n} (wX^T - y)(wx^T - y)^T\n",
    "$$\n",
    "$$\n",
    "\\nabla_w L(w) = \\frac{2}{n}(\\vec{w}X^T - \\vec{y})X\n",
    "$$\n",
    "Тогда \n",
    "$$ \n",
    " H(L(w)) = \\nabla_w(\\nabla_wL(w)) = \\nabla_w(\\frac{2}{n}(\\vec{w}X^{T} - \\vec{y})X) = \\frac{2}{n}X^TX > 0 \n",
    "$$\n",
    "\n",
    "Докажем следующее утверждение:\n",
    "\n",
    "$Лемма$.\n",
    "$\\forall$ $A$ матрица $A^TA$ неотрицательно определена. \n",
    "\n",
    "$Доказательство.$ \n",
    "$A^TA \\geq 0$, если $\\forall$ $x$ выполнено \n",
    "$$\n",
    "xA^TAx^T \\geq 0. \n",
    "$$\n",
    "Покажем, что последнее неравенство выполнено:\n",
    " $$xA^TAx^T = (xA^T)(Ax^T) = \\langle xA^T, xA^T \\rangle = \\|xA^T\\|_{l2} \\geq 0$$ \n",
    "$чтд.$\n",
    "$$$$\n",
    "$Следствие$.\n",
    "Если А имеет полный ранг, то $A^TA$ положительно определена.\n",
    "\n",
    "$Доказательство$.\n",
    "$$$$\n",
    "Пусть A имеет полный ранг, тогда $xA^T = \\vec 0$ $\\Leftrightarrow$ $x = \\vec 0$, т.е. $\\forall x \\neq \\vec 0$ $$ xA^TAx^T > 0$$ \n",
    "Отсюда матрица $A^TA$ положительно определена.\n",
    "$$$$\n",
    "$чтд.$\n",
    "$$$$\n",
    "Итак, точка $w$ в действительно точка минимума функции $L(w)$.\n",
    "$$$$\n",
    "\n",
    "Точное решение будем искать с помощью L2 регуляризации $$\\nabla_{w}L(w) = \\frac{2}{n}(\\vec{w}X^{T} - \\vec{y})X + \\frac{2}{C}\\vec{w_0} = 0$$ $$(\\vec{w}X^{T} - \\vec{y})X + \\lambda \\vec{w_0} = 0$$ $$\\vec{w} = {y}X(X^{T}X+ \\lambda E)^{-1}$$ \n",
    "\n",
    "Пусть в матрице $X$ есть линейно зависимые признаки. Тогда определитель матрицы  $X^TX$ будет иметь близкое к нулю значение. Если искать точное решение по формуле $w = (X^TX)^{-1}X^TY$, поделив на $\\det X^TX$, получим значение $w$, несоизмеримо большое относительно отклонения признаков.\n",
    "$$$$\n",
    "Польза от регуляризации в том, что она не допускает неконтролируемое изменение таргета в случае сильно кореллирующих признаков."
   ]
  },
  {
   "cell_type": "markdown",
   "metadata": {},
   "source": [
    "**Задача 4.  Предсказываем вероятности.**\n",
    "\n",
    "Когда говорят о логистической регрессии, произносят фразу, что она \"предсказывает вероятности положительного класса\". Давайте разберемся, что же за этим стоит. Посчитаем математическое ожидание функции потерь и проверим, что предсказание алгоритма, оптимизирующее это мат. ожидание, будет являться вероятностью положительного класса. \n",
    "\n",
    "И так, функция потерь на объекте $x_i$, который имеет метку $y_i \\in \\{0,1\\}$  для предсказания $a(x_i)$ равна:\n",
    "$$L(y_i, b) =-[y_i == 1] \\log a(x_i)  - [y_i == 0] \\log(1 - a(x_i)) $$\n",
    "\n",
    "Где $[]$ означает индикатор $-$ он равен единице, если значение внутри него истинно, иначе он равен нулю. Тогда мат. ожидание при условии конкретного $x_i$  по определение мат. ожидания дискретной случайной величины:\n",
    "$$E(L | x_i) = -p(y_i = 1 |x_i ) \\log a(x_i)  - p(y_i = 0 | x_i) \\log( 1 - a(x_i))$$\n",
    "* Докажите, что значение $a(x_i)$, минимизирующее данное мат. ожидание, в точности равно $p(y_i = 1 |x_i)$, то есть равно вероятности положительного класса.\n",
    "\n",
    "Подсказка: возможно, придется воспользоваться, что  $p(y_i = 1 | x_i) + p(y_i = 0 | x_i) = 1$"
   ]
  },
  {
   "cell_type": "markdown",
   "metadata": {},
   "source": [
    "***Ваше решение здесь***"
   ]
  },
  {
   "cell_type": "markdown",
   "metadata": {},
   "source": [
    "$$\\dfrac{\\partial E(L|x_i)}{\\partial a(x_i)} = \\frac{a(x_i) - p(y_i = 1| x_i)}{(1-a(x_i))a(x_i)} = 0 $$\n",
    "\n",
    "Таким образом, $a(x_i) = p(y_i = 1| x_i)$ - это точка экстремума.  Проверерим экстремум: покажем что, он дает минимум.\n",
    "\n",
    "$$\\dfrac{\\partial^{2} E(L|x_i)}{\\partial{a(x_i)}^{2}}_{|p(y_i = 1| x_i)} = \\frac{(1 - a(x_i))a(x_i) - (a(x_i) - p(y_i = 1| x_i)) (1 - 2a(x_i)}{(1 - a(x_i))^2 a(x_i)^2}_{|p(y_i = 1| x_i)} = \\frac{a(x_i)^2 + p(y_i = 1| x_i)(1 - 2a(x_i))}{(1 - a(x_i))^2 a(x_i)^2}_{|p(y_i = 1| x_i)}=$$\n",
    "\n",
    "$$ =  \\frac{p(y_i = 1| x_i)^2 + p(y_i = 1| x_i)(1 - 2p(y_i = 1| x_i))}{(1 - p(y_i = 1| x_i))^2p(y_i = 1| x_i)^2} = \\frac{1}{(1 - p(y_i = 1| x_i))p(y_i = 1| x_i)} > 0$$\n",
    "\n",
    "\n",
    "ЧТД"
   ]
  },
  {
   "cell_type": "markdown",
   "metadata": {},
   "source": [
    "**Задача 5.  Смысл регуляризации.**\n",
    "\n",
    "Нужно ли в L1/L2 регуляризации использовать свободный член $w_0$ (который не умножается ни на какой признак)?\n",
    "\n",
    "Подсказка: подумайте, для чего мы вводим $w_0$"
   ]
  },
  {
   "cell_type": "markdown",
   "metadata": {},
   "source": [
    "***Ваше решение здесь***"
   ]
  },
  {
   "cell_type": "markdown",
   "metadata": {},
   "source": [
    "Мы вводим сводный член $w_0$ в качестве параметра отвеающего за сдвиг гипреплоскости в пространстве. \n",
    "Нет смысла его использовать при регуляризации."
   ]
  },
  {
   "cell_type": "markdown",
   "metadata": {},
   "source": [
    "#  Реализация линейной модели (4 балла)"
   ]
  },
  {
   "cell_type": "markdown",
   "metadata": {},
   "source": [
    "## Зачем нужны батчи?\n"
   ]
  },
  {
   "cell_type": "markdown",
   "metadata": {},
   "source": [
    "Как Вы могли заметить из теоретического введения, что в случае SGD, что в случа mini-batch GD,  на каждой итерации обновление весов  происходит только по небольшой части данных (1 пример в случае SGD, batch примеров в случае mini-batch). То есть для каждой итерации нам *** не нужна вся выборка***. Мы можем просто итерироваться по выборке, беря батч нужного размера (далее 1 объект тоже будем называть батчом).\n",
    "\n",
    "Легко заметить, что в этом случае нам не нужно загружать все данные в оперативную память, достаточно просто считать батч с диска, обновить веса, считать диска другой батч и так далее. В целях упрощения домашней работы, прямо с диска  мы считывать не будем, будем работать с обычными numpy array. \n",
    "\n",
    "\n",
    "\n"
   ]
  },
  {
   "cell_type": "markdown",
   "metadata": {},
   "source": [
    "## Немножко про генераторы в Python\n",
    "\n"
   ]
  },
  {
   "cell_type": "markdown",
   "metadata": {},
   "source": [
    "Идея считывания данных кусками удачно ложится на так называемые ***генераторы*** из языка Python. В данной работе Вам предлагается не только разобраться с логистической регрессией, но  и познакомиться с таким важным элементом языка.  При желании Вы можете убрать весь код, связанный с генераторами, и реализовать логистическую регрессию и без них, ***штрафоваться это никак не будет***. Главное, чтобы сама модель была реализована правильно, и все пункты были выполнены. \n",
    "\n",
    "Подробнее можно почитать вот тут https://anandology.com/python-practice-book/iterators.html\n"
   ]
  },
  {
   "cell_type": "markdown",
   "metadata": {},
   "source": [
    "К генератору стоит относиться просто как к функции, которая порождает не один объект, а целую последовательность объектов. Новое значение из последовательности генерируется с помощью ключевого слова ***yield***. Ниже Вы можете насладиться  генератором чисел Фибоначчи."
   ]
  },
  {
   "cell_type": "code",
   "execution_count": 115,
   "metadata": {},
   "outputs": [],
   "source": [
    "def fib(max_iter=4):\n",
    "    a, b = 0, 1\n",
    "    iter_num = 0\n",
    "    while 1:\n",
    "        yield a\n",
    "        a, b = b, a + b\n",
    "        iter_num += 1\n",
    "        if iter_num == max_iter:\n",
    "            break"
   ]
  },
  {
   "cell_type": "markdown",
   "metadata": {},
   "source": [
    "Вот так можно сгенерировать последовательность Фибоначчи. \n",
    "\n",
    "Заметьте, что к генераторам можно применять некоторые стандартные функции из Python, например enumerate."
   ]
  },
  {
   "cell_type": "code",
   "execution_count": 116,
   "metadata": {},
   "outputs": [
    {
     "name": "stdout",
     "output_type": "stream",
     "text": [
      "Fib num: 0 fib values: 0\n",
      "Fib num: 1 fib values: 1\n",
      "Fib num: 2 fib values: 1\n",
      "Fib num: 3 fib values: 2\n"
     ]
    }
   ],
   "source": [
    "new_generator = fib()\n",
    "for j, fib_val in enumerate(new_generator):\n",
    "    print (\"Fib num: \" + str(j) + \" fib values: \" + str(fib_val))"
   ]
  },
  {
   "cell_type": "markdown",
   "metadata": {},
   "source": [
    "Пересоздавая объект, можно сколько угодно раз генерировать заново последовательность. "
   ]
  },
  {
   "cell_type": "code",
   "execution_count": 117,
   "metadata": {},
   "outputs": [
    {
     "name": "stdout",
     "output_type": "stream",
     "text": [
      "Fib num: 0 fib values: 0\n",
      "Fib num: 1 fib values: 1\n",
      "Fib num: 2 fib values: 1\n",
      "Fib num: 3 fib values: 2\n",
      "Fib num: 0 fib values: 0\n",
      "Fib num: 1 fib values: 1\n",
      "Fib num: 2 fib values: 1\n",
      "Fib num: 3 fib values: 2\n",
      "Fib num: 0 fib values: 0\n",
      "Fib num: 1 fib values: 1\n",
      "Fib num: 2 fib values: 1\n",
      "Fib num: 3 fib values: 2\n"
     ]
    }
   ],
   "source": [
    "for i in range(0, 3):\n",
    "    new_generator = fib()\n",
    "    for j, fib_val in enumerate(new_generator):\n",
    "        print (\"Fib num: \" + str(j) + \" fib values: \" + str(fib_val))"
   ]
  },
  {
   "cell_type": "markdown",
   "metadata": {},
   "source": [
    "А вот так уже нельзя."
   ]
  },
  {
   "cell_type": "code",
   "execution_count": 118,
   "metadata": {},
   "outputs": [
    {
     "name": "stdout",
     "output_type": "stream",
     "text": [
      "Fib num: 0 fib values: 0\n",
      "Fib num: 1 fib values: 1\n",
      "Fib num: 2 fib values: 1\n",
      "Fib num: 3 fib values: 2\n"
     ]
    }
   ],
   "source": [
    "new_generator = fib()\n",
    "for i in range(0, 3):\n",
    "    for j, fib_val in enumerate(new_generator):\n",
    "        print (\"Fib num: \" + str(j) + \" fib values: \" + str(fib_val))"
   ]
  },
  {
   "cell_type": "markdown",
   "metadata": {},
   "source": [
    "Концепция крайне удобная для обучения  моделей $-$ у Вас есть некий источник данных, который Вам выдает их кусками, и Вам совершенно все равно откуда он их берет. Под ним может скрывать как массив в оперативной памяти, как файл на жестком диске, так и SQL база данных. Вы сами данные никуда не сохраняете, оперативную память экономите."
   ]
  },
  {
   "cell_type": "markdown",
   "metadata": {},
   "source": [
    "Если Вам понравилась идея с генераторами, то Вы можете реализовать свой, используя прототип batch_generator. В нем Вам нужно выдавать батчи признаков и ответов для каждой новой итерации спуска. Если не понравилась идея, то можете реализовывать SGD или mini-batch GD без генераторов."
   ]
  },
  {
   "cell_type": "code",
   "execution_count": 119,
   "metadata": {},
   "outputs": [],
   "source": [
    "def batch_generator(shuffle=True, batch_size=3):\n",
    "    \"\"\"\n",
    "    Гератор новых батчей для обучения\n",
    "    X          - матрица объекты-признаки\n",
    "    y_batch    - вектор ответов\n",
    "    shuffle    - нужно ли случайно перемешивать выборку\n",
    "    batch_size - размер батча ( 1 это SGD, > 1 mini-batch GD)\n",
    "    Генерирует подвыборку для итерации спуска (X_batch, y_batch)\n",
    "    \"\"\"\n",
    "    def generator(X, y):\n",
    "        size = X.shape[0]\n",
    "        size1 = size // batch_size\n",
    "        if shuffle:\n",
    "            index = np.random.permutation(size)[:size1\n",
    "                * batch_size].reshape(size1, -1)\n",
    "        else:\n",
    "            index = np.arange(size)[:size1 * batch_size].reshape(size1,\n",
    "                    -1)\n",
    "\n",
    "        for i in range(size1):\n",
    "            X_batch = X[index[i]]\n",
    "            y_batch = y[index[i]].reshape(-1, 1)\n",
    "            yield (X_batch, y_batch)\n",
    "\n",
    "    return generator\n",
    "\n",
    "# Теперь можно сделать генератор по данным ()\n",
    "#  my_batch_generator = batch_generator(X, y, shuffle=True, batch_size=1):"
   ]
  },
  {
   "cell_type": "code",
   "execution_count": 120,
   "metadata": {},
   "outputs": [],
   "source": [
    "#%%pycodestyle\n",
    "\n",
    "def sigmoid(x):\n",
    "    \"\"\"\n",
    "    Вычисляем значение сигмоида.\n",
    "    X - выход линейной модели\n",
    "    \"\"\"\n",
    "\n",
    "    sigm_value_x = 1 / (1 + np.exp(-x))\n",
    "    return sigm_value_x\n",
    "\n",
    "\n",
    "def LOSS(a, y, w, C, atol=1e-06):\n",
    "    if(np.isclose(a, 0).any() or np.isclose(a, 1).any()):\n",
    "        loss = np.inf\n",
    "    else:\n",
    "        loss = - np.sum(y * np.log(a) + (1 - y) * np.log(1 - a)) / y.shape[0]\n",
    "        loss += np.sum(w[1:]**2) / C\n",
    "    return loss\n",
    "\n",
    "\n",
    "class MySGDClassifier(BaseEstimator, ClassifierMixin):\n",
    "\n",
    "    def __init__(self, batch_generator, C=1, alpha=0.01, max_epoch=10, model_type='lin_reg'):\n",
    "        \"\"\"\n",
    "        batch_generator -- функция генератор, которой будем создавать батчи\n",
    "        C - коэф. регуляризации\n",
    "        alpha - скорость спуска\n",
    "        max_epoch - максимальное количество эпох\n",
    "        model_type - тим модели, lin_reg или log_reg\n",
    "        \"\"\"\n",
    "\n",
    "        self.C = C\n",
    "        self.alpha = alpha\n",
    "        self.max_epoch = max_epoch\n",
    "        self.batch_generator = batch_generator\n",
    "        self.errors_log = {'iter': [], 'loss': []}\n",
    "        self.model_type = model_type\n",
    "        self.weights = None\n",
    "\n",
    "    def calc_loss(self, X_batch, y_batch):\n",
    "        \"\"\"\n",
    "        Считаем функцию потерь по батчу \n",
    "        X_batch - матрица объекты-признаки по батчу\n",
    "        y_batch - вектор ответов по батчу\n",
    "        Не забудте тип модели (линейная или логистическая регрессия)!\n",
    "        \"\"\"\n",
    "        if(self.model_type == 'lin_reg'):\n",
    "            loss = np.sum((X_batch @ self.weights - y_batch)\n",
    "                          ** 2) / y_batch.shape[0]\n",
    "            loss += np.sum(self.weights[1:]**2) / self.C\n",
    "\n",
    "        if(self.model_type == 'log_reg'):\n",
    "            a = sigmoid(np.dot(X_batch, self.weights))\n",
    "            loss = LOSS(a, y_batch, self.weights, self.C)\n",
    "\n",
    "        return loss\n",
    "\n",
    "    def calc_loss_grad(self, X_batch, y_batch):\n",
    "        \"\"\"\n",
    "        Считаем  градиент функции потерь по батчу (то что Вы вывели в задании 1)\n",
    "        X_batch - матрица объекты-признаки по батчу\n",
    "        y_batch - вектор ответов по батчу\n",
    "        Не забудте тип модели (линейная или логистическая регрессия)!\n",
    "        \"\"\"\n",
    "        if(self.model_type == 'lin_reg'):\n",
    "            a = np.dot(X_batch, self.weights)\n",
    "            loss_grad = 2 * \\\n",
    "                X_batch.T @ (a - y_batch) / \\\n",
    "                y_batch.shape[0] + (2 / self.C) * self.weights\n",
    "\n",
    "        if(self.model_type == 'log_reg'):\n",
    "            a = sigmoid(np.dot(X_batch, self.weights))\n",
    "            loss_grad = X_batch.T @ (a - y_batch) / \\\n",
    "                y_batch.shape[0] + (2 / self.C) * self.weights\n",
    "\n",
    "        loss_grad[0] -= (2 / self.C) * self.weights[0]\n",
    "\n",
    "        return loss_grad\n",
    "\n",
    "    def update_weights(self, new_grad):\n",
    "        \"\"\"\n",
    "        Обновляем вектор весов\n",
    "        new_grad - градиент по батчу\n",
    "        \"\"\"\n",
    "        self.weights = self.weights - self.alpha * (new_grad)\n",
    "\n",
    "    def fit(self, X, y):\n",
    "        '''\n",
    "        Обучение модели\n",
    "        X - матрица объекты-признаки\n",
    "        y - вектор ответов\n",
    "        '''\n",
    "        y = y.astype(int).reshape(-1, 1)\n",
    "        X = np.hstack((np.ones((X.shape[0], 1)), X))\n",
    "        self.weights = np.random.rand(X.shape[1]).reshape(-1, 1)\n",
    "\n",
    "        for n in range(0, self.max_epoch):\n",
    "            new_epoch_generator = self.batch_generator(X, y)\n",
    "            for batch_num, new_batch in enumerate(new_epoch_generator):\n",
    "                X_batch = new_batch[0]\n",
    "                y_batch = new_batch[1]\n",
    "                batch_loss = self.calc_loss(X_batch, y_batch)\n",
    "                self.errors_log['iter'].append(batch_num)\n",
    "                self.errors_log['loss'].append(batch_loss)\n",
    "                batch_grad = self.calc_loss_grad(X_batch, y_batch)\n",
    "                self.update_weights(batch_grad)\n",
    "\n",
    "        return self\n",
    "\n",
    "    def predict(self, X, th=0.5):\n",
    "        '''\n",
    "        Предсказание класса\n",
    "        X - матрица объекты-признаки\n",
    "        Не забудте тип модели (линейная или логистическая регрессия)!\n",
    "        '''\n",
    "        X = np.hstack((np.ones(len(X)).reshape(-1, 1), X))\n",
    "\n",
    "        if(self.model_type == 'lin_reg'):\n",
    "            target = np.where((X @ self.weights) >= th, 1, 0)\n",
    "\n",
    "        if(self.model_type == 'log_reg'):\n",
    "            target = np.where(sigmoid(X @ self.weights) >= th, 1, 0)\n",
    "\n",
    "        return target"
   ]
  },
  {
   "cell_type": "markdown",
   "metadata": {},
   "source": [
    "Запустите обе регрессии на синтетических данных. \n",
    "\n",
    "\n",
    "Выведите полученные веса и нарисуйте разделяющую границу между классами (используйте только первых два веса для первых двух признаков X[:,0], X[:,1] для отображения в 2d пространство ).  "
   ]
  },
  {
   "cell_type": "code",
   "execution_count": 121,
   "metadata": {},
   "outputs": [],
   "source": [
    "def plot_decision_boundary(clf, X):\n",
    "    w = clf.weights\n",
    "    x = np.linspace(np.min(X[:, 0]), np.max(X[:, 0]), 10)\n",
    "    y = -(w[1] * x + w[0]) / w[2]\n",
    "    plt.plot(x, y)"
   ]
  },
  {
   "cell_type": "code",
   "execution_count": 122,
   "metadata": {},
   "outputs": [
    {
     "data": {
      "text/plain": [
       "<matplotlib.collections.PathCollection at 0x23c0c66bcc8>"
      ]
     },
     "execution_count": 122,
     "metadata": {},
     "output_type": "execute_result"
    },
    {
     "data": {
      "image/png": "[encoded data removed]",
      "text/plain": [
       "<Figure size 864x360 with 1 Axes>"
      ]
     },
     "metadata": {},
     "output_type": "display_data"
    }
   ],
   "source": [
    "np.random.seed(0)\n",
    "\n",
    "C1 = np.array([[0., -0.8], [1.5, 0.8]])\n",
    "C2 = np.array([[1., -0.7], [2., 0.7]])\n",
    "gauss1 = np.dot(np.random.randn(200, 2) + np.array([5, 3]), C1)\n",
    "gauss2 = np.dot(np.random.randn(200, 2) + np.array([1.5, 0]), C2)\n",
    "\n",
    "X = np.vstack([gauss1, gauss2])\n",
    "y = np.r_[np.ones(200), np.zeros(200)]\n",
    "\n",
    "clf = MySGDClassifier(batch_generator(batch_size=10),\n",
    "                      C=1000, alpha=0.01, max_epoch=100, model_type='log_reg')\n",
    "clf.fit(X, y)\n",
    "plot_decision_boundary(clf, X)\n",
    "\n",
    "plt.scatter(X[:, 0], X[:, 1], c=y)"
   ]
  },
  {
   "cell_type": "markdown",
   "metadata": {},
   "source": [
    "Далее будем анализировать Ваш алгоритм. \n",
    "Для этих заданий используйте датасет ниже."
   ]
  },
  {
   "cell_type": "code",
   "execution_count": 123,
   "metadata": {},
   "outputs": [],
   "source": [
    "from sklearn.datasets import make_classification"
   ]
  },
  {
   "cell_type": "code",
   "execution_count": 124,
   "metadata": {},
   "outputs": [],
   "source": [
    "X, y = make_classification(n_samples=100000, n_features=10, \n",
    "                           n_informative=4, n_redundant=0, \n",
    "                           random_state=123, class_sep=1.0,\n",
    "                           n_clusters_per_class=1)"
   ]
  },
  {
   "cell_type": "markdown",
   "metadata": {},
   "source": [
    "Покажите сходимости обеих регрессией на этом датасете: изобразите график  функции потерь, усредненной по $N$ шагам градиентого спуска, для разных `alpha` (размеров шага). Разные `alpha` расположите на одном графике. \n",
    "\n",
    "$N$ можно брать 10, 50, 100 и т.д. "
   ]
  },
  {
   "cell_type": "code",
   "execution_count": 125,
   "metadata": {},
   "outputs": [
    {
     "data": {
      "image/png": "[encoded data removed]",
      "text/plain": [
       "<Figure size 1152x288 with 2 Axes>"
      ]
     },
     "metadata": {},
     "output_type": "display_data"
    }
   ],
   "source": [
    "N = 100\n",
    "batch_size = 100\n",
    "alpha = [0.001, 0.01, 0.1]\n",
    "max_epoch = 10\n",
    "M = ['lin_reg', 'log_reg']\n",
    "\n",
    "\n",
    "fig, axes = plt.subplots(1, 2, figsize=(12, 12), sharex=False, sharey=False)\n",
    "fig.set_figheight(4)\n",
    "fig.set_figwidth(16)\n",
    "\n",
    "for ax, m in zip(axes.flatten(), M):\n",
    "    for a in alpha:\n",
    "        clf = MySGDClassifier(batch_generator(\n",
    "            batch_size=batch_size), alpha=a, max_epoch=max_epoch, model_type=m)\n",
    "        clf.fit(X, y)\n",
    "        loss_ = []\n",
    "        for i in range(0, len(clf.errors_log['loss']), N):\n",
    "            loss_.append(np.mean(clf.errors_log['loss'][i: i + N]))\n",
    "        sns.lineplot(ax=ax, x=np.arange(len(loss_)),\n",
    "                     y=loss_, label='alpha = {}'.format(a))"
   ]
  },
  {
   "cell_type": "markdown",
   "metadata": {},
   "source": [
    "Что Вы можете сказать про сходимость метода при различных `alpha`? Какое значение стоит выбирать для лучшей сходимости?"
   ]
  },
  {
   "cell_type": "markdown",
   "metadata": {},
   "source": [
    "Как можно заметить, при больших значениях $\\alpha$ сходимость протикает интенсивнее, но и вероятность проскочить минимум увеличивеается. Думаю, лучшим вариантом было бы взять значение $\\alpha$ побольше,а затем постепенно его сокращать."
   ]
  },
  {
   "cell_type": "markdown",
   "metadata": {},
   "source": [
    "Изобразите график среднего значения весов для обеих регрессий в зависимости от коеф. регуляризации С из `np.logspace(3, -3, 10)` "
   ]
  },
  {
   "cell_type": "code",
   "execution_count": 126,
   "metadata": {},
   "outputs": [
    {
     "data": {
      "image/png": "[encoded data removed]",
      "text/plain": [
       "<Figure size 1152x720 with 2 Axes>"
      ]
     },
     "metadata": {},
     "output_type": "display_data"
    }
   ],
   "source": [
    "batch_size = 100\n",
    "alpha = 0.0001\n",
    "max_epoch = 10\n",
    "M = ['lin_reg', 'log_reg']\n",
    "\n",
    "C = [*np.logspace(3, -3, 10)]\n",
    "\n",
    "fig, axes = plt.subplots(2, 1, sharex=False, sharey=False)\n",
    "fig.set_figheight(10)\n",
    "fig.set_figwidth(16)\n",
    "\n",
    "for ax, m in zip(axes.flatten(), M):\n",
    "    w = list()\n",
    "    for c in C:\n",
    "        clf = MySGDClassifier(batch_generator(batch_size=batch_size),\n",
    "                              max_epoch=max_epoch,\n",
    "                              alpha=alpha,\n",
    "                              C=c,\n",
    "                              model_type=m)\n",
    "        clf.fit(X, y)\n",
    "        w.append(np.mean(np.abs(clf.weights)))\n",
    "    ax.set(xlabel=m)\n",
    "    sns.barplot(ax=ax, x=C, y=w, color=\"Blue\")"
   ]
  },
  {
   "cell_type": "markdown",
   "metadata": {},
   "source": [
    "Довольны ли Вы, насколько сильно уменьшились Ваши веса? "
   ]
  },
  {
   "cell_type": "markdown",
   "metadata": {
    "collapsed": true
   },
   "source": [
    "Просматривается очевидная взаимосвязь между средними вечинами весов и коэф. регуляризации. Несомненно, это произвело на меня неизгладимое впечатление. "
   ]
  },
  {
   "cell_type": "markdown",
   "metadata": {},
   "source": [
    "# Боевое применение (4  балла)\n",
    "\n",
    "**Защита данной части возможна только при преодолении в проекте бейзлайна Handmade baseline.**"
   ]
  },
  {
   "cell_type": "markdown",
   "metadata": {},
   "source": [
    "Давайте применим модель на итоговом проекте! Датасет сделаем точно таким же образом, как было показано в project_overview.ipynb\n",
    "\n",
    "Применим обе регрессии, подберем для них параметры и сравним качество. Может быть Вы еще одновременно с решением домашней работы подрастете на лидерборде!"
   ]
  },
  {
   "cell_type": "code",
   "execution_count": 142,
   "metadata": {},
   "outputs": [],
   "source": [
    "import pandas as pd\n",
    "from sklearn.model_selection import GroupKFold\n",
    "from sklearn.feature_extraction.text import TfidfVectorizer"
   ]
  },
  {
   "cell_type": "code",
   "execution_count": 128,
   "metadata": {},
   "outputs": [
    {
     "name": "stdout",
     "output_type": "stream",
     "text": [
      "28026\n"
     ]
    }
   ],
   "source": [
    "doc_to_title = {}\n",
    "with open('docs_titles.tsv', encoding='utf-8') as f:\n",
    "    for num_line, line in enumerate(f):\n",
    "        if num_line == 0:\n",
    "            continue\n",
    "        data = line.strip().split('\\t', 1)\n",
    "        doc_id = int(data[0])\n",
    "        if len(data) == 1:\n",
    "            title = ''\n",
    "        else:\n",
    "            title = data[1]\n",
    "        doc_to_title[doc_id] = title\n",
    "print (len(doc_to_title))"
   ]
  },
  {
   "cell_type": "code",
   "execution_count": 129,
   "metadata": {},
   "outputs": [],
   "source": [
    "import pandas as pd\n",
    "train_data = pd.read_csv('train_groups.csv')\n",
    "traingroups_titledata = {}\n",
    "for i in range(len(train_data)):\n",
    "    new_doc = train_data.iloc[i]\n",
    "    doc_group = new_doc['group_id']\n",
    "    doc_id = new_doc['doc_id']\n",
    "    target = new_doc['target']\n",
    "    title = doc_to_title[doc_id]\n",
    "    if doc_group not in traingroups_titledata:\n",
    "        traingroups_titledata[doc_group] = []\n",
    "    traingroups_titledata[doc_group].append((doc_id, title, target))"
   ]
  },
  {
   "cell_type": "code",
   "execution_count": 130,
   "metadata": {},
   "outputs": [
    {
     "name": "stdout",
     "output_type": "stream",
     "text": [
      "(11690, 15) (11690,) (11690,)\n"
     ]
    }
   ],
   "source": [
    "import numpy as np\n",
    "y_train = []\n",
    "X_train = []\n",
    "groups_train = []\n",
    "for new_group in traingroups_titledata:\n",
    "    docs = traingroups_titledata[new_group]\n",
    "    for k, (doc_id, title, target_id) in enumerate(docs):\n",
    "        y_train.append(target_id)\n",
    "        groups_train.append(new_group)\n",
    "        all_dist = []\n",
    "        words = set(title.strip().split())\n",
    "        for j in range(0, len(docs)):\n",
    "            if k == j:\n",
    "                continue\n",
    "            doc_id_j, title_j, target_j = docs[j]\n",
    "            words_j = set(title_j.strip().split())\n",
    "            all_dist.append(len(words.intersection(words_j)))\n",
    "        X_train.append(sorted(all_dist, reverse=True)[0:15]    )\n",
    "X_train = np.array(X_train)\n",
    "y_train = np.array(y_train)\n",
    "groups_train = np.array(groups_train)\n",
    "print (X_train.shape, y_train.shape, groups_train.shape)"
   ]
  },
  {
   "cell_type": "markdown",
   "metadata": {},
   "source": [
    "Подберите размер батча для обучения. Линейная модель не должна учиться дольше нескольких минут. \n",
    "\n",
    "Не забывайте использовать скейлер!"
   ]
  },
  {
   "cell_type": "code",
   "execution_count": 131,
   "metadata": {},
   "outputs": [],
   "source": [
    "from sklearn.metrics import f1_score\n",
    "from sklearn.linear_model import LinearRegression\n",
    "from sklearn.preprocessing import StandardScaler"
   ]
  },
  {
   "cell_type": "code",
   "execution_count": 132,
   "metadata": {},
   "outputs": [],
   "source": [
    "st = StandardScaler()\n",
    "st.fit(X_train)\n",
    "X = st.transform(X_train)\n",
    "y = y_train"
   ]
  },
  {
   "cell_type": "markdown",
   "metadata": {},
   "source": [
    "Разбейте данные на обучение и валидацию. Подберите параметры C, alpha, max_epoch, model_type на валидации (Вы же помните, как правильно в этой задаче делать валидацию?)"
   ]
  },
  {
   "cell_type": "code",
   "execution_count": 133,
   "metadata": {},
   "outputs": [],
   "source": [
    "A = [*np.logspace(-4, -2, 3)]\n",
    "C = [*np.logspace(2, 4, 3)]\n",
    "E = [*range(10, 15)]\n",
    "M = ['lin_reg', 'log_reg']\n",
    "GRID_PARAMETERS = list()\n",
    "G = GroupKFold(n_splits=15)"
   ]
  },
  {
   "cell_type": "code",
   "execution_count": 134,
   "metadata": {},
   "outputs": [],
   "source": [
    "for m in M:\n",
    "    for e in E:\n",
    "        for c in C:\n",
    "            for a in A:\n",
    "                score = list()\n",
    "                for train_index, test_index in G.split(X, y, groups_train):\n",
    "\n",
    "                    X_train, X_test = X[train_index], X[test_index]\n",
    "                    y_train, y_test = y[train_index], y[test_index]\n",
    "                    clf = MySGDClassifier(batch_generator(batch_size=10000),\n",
    "                                          alpha=a,\n",
    "                                          C=c,\n",
    "                                          max_epoch=e,\n",
    "                                          model_type=m)\n",
    "                    clf.fit(X_train, y_train)\n",
    "                    pred = clf.predict(X_test)\n",
    "                    score.append(f1_score(y_test, pred))\n",
    "                GRID_PARAMETERS.append((np.mean(score), m, e, c, a))"
   ]
  },
  {
   "cell_type": "code",
   "execution_count": 135,
   "metadata": {},
   "outputs": [
    {
     "data": {
      "text/plain": [
       "(0.6004185082181858, 'lin_reg', 12, 100.0, 0.0001)"
      ]
     },
     "execution_count": 135,
     "metadata": {},
     "output_type": "execute_result"
    }
   ],
   "source": [
    "BEST_PARAMETERS = max(GRID_PARAMETERS, key=lambda x: x[0])\n",
    "BEST_PARAMETERS"
   ]
  },
  {
   "cell_type": "markdown",
   "metadata": {
    "collapsed": true
   },
   "source": [
    "Подберите порог линейной модели, по достижении которого, Вы будете относить объект к классу 1. Вспомните, какую метрику мы оптимизируем в соревновании.  Как тогда правильно подобрать порог?"
   ]
  },
  {
   "cell_type": "code",
   "execution_count": 143,
   "metadata": {},
   "outputs": [],
   "source": [
    "A = BEST_PARAMETERS[4]\n",
    "C = BEST_PARAMETERS[3]\n",
    "E = BEST_PARAMETERS[2]\n",
    "M = BEST_PARAMETERS[1]\n",
    "\n",
    "TH = [*np.arange(0.01, 1, 0.01)]\n",
    "\n",
    "BEST_CLF = MySGDClassifier(batch_generator(\n",
    "    batch_size=10000), alpha=A, C=C, max_epoch=E, model_type=M)\n",
    "BEST_CLF.fit(X_train, y_train)\n",
    "\n",
    "GRID_TH = list()"
   ]
  },
  {
   "cell_type": "code",
   "execution_count": 144,
   "metadata": {},
   "outputs": [
    {
     "data": {
      "text/plain": [
       "0.62"
      ]
     },
     "execution_count": 144,
     "metadata": {},
     "output_type": "execute_result"
    }
   ],
   "source": [
    "for th in TH:\n",
    "    score = list()\n",
    "    for train_index, test_index in G.split(X, y, groups_train):\n",
    "        X_test = X[test_index]\n",
    "        y_test = y[test_index]\n",
    "        pred = clf.predict(X_test, th=th)\n",
    "        score.append(f1_score(y_test, pred))\n",
    "    GRID_TH.append((np.mean(score), th))\n",
    "\n",
    "BEST_TH = max(GRID_TH, key=lambda x: x[0])[-1]\n",
    "BEST_TH"
   ]
  },
  {
   "cell_type": "markdown",
   "metadata": {},
   "source": [
    "С лучшими параметрами на валидации сделайте предсказание на тестовом множестве, отправьте его на проверку на платформу kaggle. Убедитесь, что Вы смогли побить public score первого бейзлайна."
   ]
  },
  {
   "cell_type": "markdown",
   "metadata": {
    "collapsed": true
   },
   "source": [
    "** При сдаче домашки Вам необходимо кроме ссылки на ноутбук показать Ваш ник на kaggle, под которым Вы залили решение, которое побило Handmade baseline. **"
   ]
  },
  {
   "cell_type": "code",
   "execution_count": 73,
   "metadata": {},
   "outputs": [],
   "source": [
    "doc_to_title = {}\n",
    "\n",
    "with open('docs_titles.tsv', encoding='utf-8') as f:\n",
    "    for num_line, line in enumerate(f):\n",
    "        if num_line == 0:\n",
    "            continue\n",
    "        data = line.strip().split('\\t', 1)\n",
    "        doc_id = int(data[0])\n",
    "        if len(data) == 1:\n",
    "            title = ''\n",
    "        else:\n",
    "            title = data[1]\n",
    "        doc_to_title[doc_id] = title\n",
    "\n",
    "train_data = pd.read_csv('train_groups.csv')\n",
    "traingroups_titledata = {}\n",
    "for i in range(len(train_data)):\n",
    "    new_doc = train_data.iloc[i]\n",
    "    doc_group = new_doc['group_id']\n",
    "    doc_id = new_doc['doc_id']\n",
    "    target = new_doc['target']\n",
    "    title = doc_to_title[doc_id]\n",
    "    if doc_group not in traingroups_titledata:\n",
    "        traingroups_titledata[doc_group] = []\n",
    "    traingroups_titledata[doc_group].append((doc_id, title, target))\n",
    "\n",
    "y_train = []\n",
    "X_train = []\n",
    "groups_train = []\n",
    "for new_group in traingroups_titledata:\n",
    "    docs = traingroups_titledata[new_group]\n",
    "    for k, (doc_id, title, target_id) in enumerate(docs):\n",
    "        y_train.append(target_id)\n",
    "        groups_train.append(new_group)\n",
    "        all_dist = []\n",
    "        words = set(title.strip().split())\n",
    "        for j in range(0, len(docs)):\n",
    "            if k == j:\n",
    "                continue\n",
    "            doc_id_j, title_j, target_j = docs[j]\n",
    "            words_j = set(title_j.strip().split())\n",
    "            all_dist.append(len(words.intersection(words_j)))\n",
    "        X_train.append(sorted(all_dist, reverse=True)[0:15])\n",
    "X_train = np.array(X_train)\n",
    "y_train = np.array(y_train)\n",
    "groups_train = np.array(groups_train)\n",
    "\n",
    "\n",
    "st = StandardScaler()\n",
    "st.fit(X_train)\n",
    "X_train = st.transform(X_train)"
   ]
  },
  {
   "cell_type": "code",
   "execution_count": 74,
   "metadata": {},
   "outputs": [],
   "source": [
    "X_test = []\n",
    "PAIR_ID = []\n",
    "train_data = pd.read_csv('test_groups.csv')\n",
    "\n",
    "traingroups_titledata = {}\n",
    "for i in range(len(train_data)):\n",
    "    new_doc = train_data.iloc[i]\n",
    "    doc_group = new_doc['group_id']\n",
    "    pair_id = new_doc['pair_id']\n",
    "    doc_id = new_doc['doc_id']\n",
    "    pair_id = new_doc['pair_id']\n",
    "    title = doc_to_title[doc_id]\n",
    "    if doc_group not in traingroups_titledata:\n",
    "        traingroups_titledata[doc_group] = []\n",
    "    traingroups_titledata[doc_group].append((pair_id, doc_id, title))\n",
    "\n",
    "for new_group in traingroups_titledata:\n",
    "    docs = traingroups_titledata[new_group]\n",
    "    for k, (pair_id, doc_id, title) in enumerate(docs):\n",
    "        PAIR_ID.append(pair_id)\n",
    "        all_dist = []\n",
    "        words = set(title.strip().split())\n",
    "        for j in range(0, len(docs)):\n",
    "            if k == j:\n",
    "                continue\n",
    "            pair_id_j, doc_id_j, title_j = docs[j]\n",
    "            words_j = set(title_j.strip().split())\n",
    "            all_dist.append(len(words.intersection(words_j)))\n",
    "        all_dist = np.asarray(all_dist)\n",
    "        X_test.append(sorted(all_dist, reverse=True)[0:15])\n",
    "X_test = np.array(X_test)\n",
    "\n",
    "st = StandardScaler()\n",
    "st.fit(X_test)\n",
    "X_test = st.transform(X_test)"
   ]
  },
  {
   "cell_type": "code",
   "execution_count": 75,
   "metadata": {},
   "outputs": [],
   "source": [
    "A = BEST_PARAMETERS[4]\n",
    "C = BEST_PARAMETERS[3]\n",
    "E = BEST_PARAMETERS[2]\n",
    "M = BEST_PARAMETERS[1]\n",
    "\n",
    "BEST_CLF = MySGDClassifier(batch_generator(\n",
    "    batch_size=10000), alpha=A, C=C, max_epoch=E, model_type=M)\n",
    "BEST_CLF.fit(X_train, y_train)\n",
    "\n",
    "\n",
    "pred = BEST_CLF.predict(X_test, th=BEST_TH)\n",
    "\n",
    "pred = [*map(lambda x: x[0], pred.tolist())]"
   ]
  },
  {
   "cell_type": "code",
   "execution_count": 76,
   "metadata": {},
   "outputs": [],
   "source": [
    "df = pd.DataFrame({'pair_id': PAIR_ID, 'target': pred})\n",
    "df.to_csv(\"target.csv\", index=False)"
   ]
  },
  {
   "cell_type": "markdown",
   "metadata": {},
   "source": [
    "# Фидбек (бесценно)"
   ]
  },
  {
   "cell_type": "markdown",
   "metadata": {},
   "source": [
    "* Какие аспекты обучения линейных моделей Вам показались непонятными? Какое место стоит дополнительно объяснить?"
   ]
  },
  {
   "cell_type": "markdown",
   "metadata": {},
   "source": [
    "***Ваше ответ здесь***"
   ]
  },
  {
   "cell_type": "markdown",
   "metadata": {},
   "source": [
    "* Здесь Вы можете оставить отзыв о этой домашней работе или о всем курсе.   "
   ]
  },
  {
   "cell_type": "markdown",
   "metadata": {},
   "source": [
    "*** ВАШ ОТЗЫВ ЗДЕСЬ***"
   ]
  },
  {
   "cell_type": "markdown",
   "metadata": {
    "collapsed": true
   },
   "source": [
    "Спасибо, что нам помогаете!  Очень интересный и обширный курс. "
   ]
  },
  {
   "cell_type": "markdown",
   "metadata": {
    "collapsed": true
   },
   "source": [
    "Kaggle меня вдохновил, не думал что новичку там найдется место. "
   ]
  }
 ],
 "metadata": {
  "anaconda-cloud": {},
  "kernelspec": {
   "display_name": "Python 3",
   "language": "python",
   "name": "python3"
  },
  "language_info": {
   "codemirror_mode": {
    "name": "ipython",
    "version": 3
   },
   "file_extension": ".py",
   "mimetype": "text/x-python",
   "name": "python",
   "nbconvert_exporter": "python",
   "pygments_lexer": "ipython3",
   "version": "3.7.6"
  },
  "nav_menu": {},
  "toc": {
   "colors": {
    "hover_highlight": "#DAA520",
    "navigate_num": "#000000",
    "navigate_text": "#333333",
    "running_highlight": "#FF0000",
    "selected_highlight": "#FFD700",
    "sidebar_border": "#EEEEEE",
    "wrapper_background": "#FFFFFF"
   },
   "moveMenuLeft": true,
   "nav_menu": {
    "height": "402px",
    "width": "253px"
   },
   "navigate_menu": true,
   "number_sections": false,
   "sideBar": true,
   "threshold": 4,
   "toc_cell": false,
   "toc_section_display": "block",
   "toc_window_display": true,
   "widenNotebook": false
  }
 },
 "nbformat": 4,
 "nbformat_minor": 2
}
