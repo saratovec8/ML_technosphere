{
 "cells": [
  {
   "cell_type": "markdown",
   "metadata": {},
   "source": [
    "### Алгоритмы интеллектуальной обработки больших объемов данных\n",
    "## Домашнее задание №4 - Градиентный бустинг\n"
   ]
  },
  {
   "cell_type": "markdown",
   "metadata": {},
   "source": [
    "**Общая информация**\n",
    "\n",
    "**Срок сдачи:** 21 декабря 2020, 08:30   \n",
    "**Штраф за опоздание:** -2 балла после 08:30 21 декабря, -4 балла после 08:30 28 декабря, -6 баллов после 08:30 04 янва, -8 баллов после 08:30 11 января.\n",
    "\n",
    "При отправлении ДЗ указывайте фамилию в названии файла Присылать ДЗ необходимо в виде ссылки на свой github репозиторий на почту ml1.sphere@mail.ru с указанием темы в следующем формате:\n",
    "[ML0220, Задание 4] Фамилия Имя. \n",
    "\n",
    "\n",
    "Используйте данный Ipython Notebook при оформлении домашнего задания."
   ]
  },
  {
   "cell_type": "markdown",
   "metadata": {},
   "source": [
    "##  Считаем производные для функций потерь (1 балл)"
   ]
  },
  {
   "cell_type": "markdown",
   "metadata": {},
   "source": [
    "Мы будем реализовать градиентный бустинг для 3 функций потерь:\n",
    "\n",
    "1) MSE  $L(a(x_i), y_i) = (y_i - a(x_i)) ^ 2$\n",
    "\n",
    "2) Экспоненциальная  $L(a(x_i), y_i) = exp( -a(x_i) y_i), y_i \\in \\{-1, 1\\}$\n",
    "\n",
    "3) Логистическая  $L(a(x_i), y_i) = \\log (1 + exp( -a(x_i) y_i)), y_i \\in \\{-1, 1\\}$\n",
    "\n",
    "где $a(x_i)$ предсказание бустинга на итом объекте. \n",
    "\n",
    "Для каждой функции потерь напишите таргет, на который будет настраиваться каждое дерево в бустинге. "
   ]
  },
  {
   "cell_type": "markdown",
   "metadata": {},
   "source": [
    "# Ответ "
   ]
  },
  {
   "cell_type": "markdown",
   "metadata": {},
   "source": [
    "На $k$-й итерации для всех $i$:"
   ]
  },
  {
   "cell_type": "markdown",
   "metadata": {},
   "source": [
    "1) MSE $-\\dfrac{\\partial L}{\\partial F}(F_{k-1}(x_i), y_i)=  -2*(F_{k-1}(x_i) - y_i) = 2*(y_i - F_{k-1}(x_i)) $"
   ]
  },
  {
   "cell_type": "markdown",
   "metadata": {},
   "source": [
    "2) Экспоненциальная $ -\\dfrac{\\partial L}{\\partial F}(F_{k-1}(x_i), y_i)=-\\exp(-y_i F_{k-1}(x_i))(-y_i) =  y_i*\\exp(-y_i F_{k-1}(x_i))$"
   ]
  },
  {
   "cell_type": "markdown",
   "metadata": {},
   "source": [
    "3) Логистическая $ -\\dfrac{\\partial L}{\\partial F}(F_{k-1}(x_i), y_i) = \\dfrac{y_i*\\exp(-y_i F_{k-1}(x_i))}{1 + \\exp(-y_i F_{k-1}(x_i)} = \\dfrac{y_i}{1 + \\exp(y_i F_{k-1}(x_i))}$"
   ]
  },
  {
   "cell_type": "markdown",
   "metadata": {},
   "source": [
    "##  Реализуем градиентный бустинг (3 балла)"
   ]
  },
  {
   "cell_type": "markdown",
   "metadata": {},
   "source": [
    "Реализуйте класс градиентного бустинга для классификации. Ваша реализация бустинга должна работать по точности не более чем на 5 процентов хуже чем GradientBoostingClassifier из sklearn. \n"
   ]
  },
  {
   "cell_type": "markdown",
   "metadata": {},
   "source": [
    "Детали реализации:\n",
    "\n",
    "-- должно поддерживаться 3 функции потерь\n",
    "\n",
    "-- сами базовые алгоритмы(деревья, линейные модели и тп) реализовать не надо, просто возьмите готовые из sklearn\n",
    "\n",
    "-- в качестве функции потерь для построения одного дерева используйте MSE\n",
    "\n",
    "-- шаг в бустинге можно не подбирать, можно брать константный\n",
    "\n",
    "-- можно брать разные модели в качестве инициализации бустинга\n",
    "\n",
    "-- должны поддерживаться следующие параметры:\n",
    "\n",
    "а) число итераций\n",
    "б) размер шага\n",
    "в) процент случайных фичей при построении одного дерева\n",
    "д) процент случайных объектов при построении одного дерева\n",
    "е) параметры базового алгоритма (передавайте через **kwargs)"
   ]
  },
  {
   "cell_type": "code",
   "execution_count": 52,
   "metadata": {},
   "outputs": [],
   "source": [
    "import numpy as np\n",
    "\n",
    "from sklearn.datasets import load_wine\n",
    "from sklearn.ensemble import GradientBoostingClassifier\n",
    "from sklearn.metrics import accuracy_score\n",
    "from sklearn.model_selection import train_test_split\n",
    "from sklearn.tree import DecisionTreeRegressor\n",
    "from sklearn.model_selection import KFold\n",
    "from sklearn.preprocessing import StandardScaler\n",
    "from sklearn.linear_model import SGDClassifier\n",
    "from sklearn.linear_model import LogisticRegression,LinearRegression\n",
    "from sklearn.ensemble import RandomForestRegressor, RandomForestClassifier\n",
    "from sklearn.svm import SVC"
   ]
  },
  {
   "cell_type": "code",
   "execution_count": null,
   "metadata": {},
   "outputs": [],
   "source": []
  },
  {
   "cell_type": "code",
   "execution_count": 53,
   "metadata": {},
   "outputs": [],
   "source": [
    "class MyGradientBoostingClassifier:\n",
    "\n",
    "    def __init__(self, loss='MSE', learning_rate=0.1, n_estimators=100, colsample=1.0, subsample=1.0, *args, **kwargs):\n",
    "        \n",
    "        self.loss = loss\n",
    "        self.F = list() \n",
    "        self.learning_rate = learning_rate\n",
    "        self.n_estimators = n_estimators\n",
    "        self.colsample = colsample\n",
    "        self.subsample = subsample\n",
    "        self.base_args = args\n",
    "        self.base_kwargs = kwargs\n",
    "    \n",
    "    def init_model(self, init_model,X,y):\n",
    "        N = X.shape[0]\n",
    "        M = X.shape[1]\n",
    "        if init_model is not None:\n",
    "            init_model.fit(X,y)\n",
    "            self.F_l = init_model.predict(X).astype('float64')\n",
    "            self.F.append((1.0, init_model, np.arange(M)))\n",
    "        else:\n",
    "            self.F_l = np.zeros(shape=N)\n",
    "                                    \n",
    "   \n",
    "    def fit(self, X, y, base_model=DecisionTreeRegressor, init_model=None):\n",
    "        \n",
    "        self.F_l = None         \n",
    "        self.init_model(init_model, X, y)\n",
    "        \n",
    "        N = X.shape[0]\n",
    "        M = X.shape[1]\n",
    "        a = np.tile(np.arange(N), M).reshape(-1,N).T\n",
    "        b = np.tile(np.arange(M), N).reshape(-1,M)\n",
    "        \n",
    "        n_x = int(self.subsample * N)\n",
    "        n_f = int(self.colsample * M)\n",
    "        \n",
    "        for step in range(self.n_estimators):\n",
    "            model = base_model(*self.base_args, **self.base_kwargs)\n",
    "                                \n",
    "            x = np.random.choice(N, n_x)\n",
    "            feature = np.sort(np.random.choice(M, n_f, replace=False))\n",
    "                                    \n",
    "            smpl = X[a[x, :n_f], b[:n_x, feature]]\n",
    "                                    \n",
    "            last = self.F_l[x]\n",
    "            y_i = y[x]\n",
    "                                    \n",
    "            if self.loss == 'MSE':\n",
    "                delta = 2 * (y_i - last)                        \n",
    "                                    \n",
    "            if self.loss == 'EXP':\n",
    "                delta = y_i * np.exp(-y_i * last)\n",
    "                                    \n",
    "            if self.loss == 'LOG':\n",
    "                delta = y_i / (np.exp(y_i * last) + 1.0)\n",
    "   \n",
    "                                    \n",
    "            model.fit(smpl, delta)\n",
    "            self.F.append((self.learning_rate, model, feature))\n",
    "            self.F_l += self.learning_rate * model.predict(X[:, feature])\n",
    "        \n",
    "        \n",
    "    def predict(self, X):\n",
    "        \n",
    "        N = X.shape[0]\n",
    "        M = X.shape[1]\n",
    "        a = np.tile(np.arange(N), M).reshape(-1,N).T\n",
    "        b = np.tile(np.arange(M), N).reshape(-1,M)\n",
    "        predict  = 0\n",
    "        for rate, model, feature in self.F:\n",
    "            smpl = X[a[:, :feature.shape[0]], b[:, feature]]\n",
    "            predict += rate * model.predict(smpl)\n",
    "        if self.loss == 'MSE':\n",
    "            return (predict + 0.5).astype('int')\n",
    "        if self.loss == 'EXP':\n",
    "            return 2 * (predict > 0).astype('int') - 1\n",
    "        if self.loss == 'LOG':\n",
    "            return 2 * (predict > 0).astype('int') - 1\n"
   ]
  },
  {
   "cell_type": "code",
   "execution_count": 54,
   "metadata": {},
   "outputs": [],
   "source": [
    "my_clf = MyGradientBoostingClassifier()\n",
    "clf = GradientBoostingClassifier()"
   ]
  },
  {
   "cell_type": "code",
   "execution_count": 55,
   "metadata": {},
   "outputs": [],
   "source": [
    "wine = load_wine()\n",
    "X_train, X_test, y_train, y_test = train_test_split(wine.data, wine.target, test_size=0.1, stratify=wine.target)"
   ]
  },
  {
   "cell_type": "code",
   "execution_count": 56,
   "metadata": {},
   "outputs": [
    {
     "name": "stdout",
     "output_type": "stream",
     "text": [
      "1.0\n",
      "1.0\n"
     ]
    }
   ],
   "source": [
    "my_clf.fit(X_train, y_train)\n",
    "clf.fit(X_train, y_train)\n",
    "print(accuracy_score(y_pred=clf.predict(X_test), y_true=y_test))\n",
    "print(accuracy_score(y_pred=my_clf.predict(X_test), y_true=y_test))"
   ]
  },
  {
   "cell_type": "markdown",
   "metadata": {},
   "source": [
    "## Подбираем параметры (2 балла)\n",
    "\n",
    "Давайте попробуем применить Ваш бустинг для предсказаний цены домов в Калифорнии. Чтобы можно было попробовтаь разные функции потерь, переведем по порогу таргет в 2 класса: дорогие и дешевые дома."
   ]
  },
  {
   "cell_type": "markdown",
   "metadata": {},
   "source": [
    "В задании нужно\n",
    "\n",
    "1) Построить график точности в зависимости от числа итераций на валидации.\n",
    "\n",
    "2) Подобрать оптимальные параметры Вашего бустинга на валидации. \n"
   ]
  },
  {
   "cell_type": "code",
   "execution_count": 57,
   "metadata": {},
   "outputs": [],
   "source": [
    "from sklearn.datasets import fetch_california_housing\n",
    "X, y = fetch_california_housing(return_X_y=True)"
   ]
  },
  {
   "cell_type": "code",
   "execution_count": 58,
   "metadata": {},
   "outputs": [
    {
     "name": "stdout",
     "output_type": "stream",
     "text": [
      "(20640, 8) (20640,)\n"
     ]
    }
   ],
   "source": [
    "# Превращаем регрессию в классификацию\n",
    "y = (y > 2.0).astype(int)\n",
    "print(X.shape, y.shape)"
   ]
  },
  {
   "cell_type": "code",
   "execution_count": 59,
   "metadata": {},
   "outputs": [],
   "source": [
    "y_1 = 2 * y - 1"
   ]
  },
  {
   "cell_type": "markdown",
   "metadata": {},
   "source": [
    "# n_estimators"
   ]
  },
  {
   "cell_type": "code",
   "execution_count": 60,
   "metadata": {},
   "outputs": [],
   "source": [
    "kFold = KFold(n_splits=5, shuffle=False)\n",
    "result = []\n",
    "for n_estimators in  np.arange(50, 200, 10):\n",
    "    res = []\n",
    "    for train, test in kFold.split(X):\n",
    "        \n",
    "        X_train, X_test,y_train, y_test = X[train], X[test], y[train], y[test]\n",
    "        \n",
    "        scaler = StandardScaler()\n",
    "        X_train = scaler.fit_transform(X_train)\n",
    "        \n",
    "        myclf = MyGradientBoostingClassifier(n_estimators=n_estimators, max_depth=6)\n",
    "        myclf.fit(X_train, y_train)\n",
    "\n",
    "        X_test = scaler.transform(X_test)\n",
    "        pred = myclf.predict(X_test)\n",
    "        \n",
    "        res.append(accuracy_score(y_test, pred))\n",
    "        \n",
    "    result.append(np.mean(res))"
   ]
  },
  {
   "cell_type": "code",
   "execution_count": 62,
   "metadata": {},
   "outputs": [
    {
     "data": {
      "image/png": "[encoded data removed]",
      "text/plain": [
       "<Figure size 432x288 with 1 Axes>"
      ]
     },
     "metadata": {
      "needs_background": "light"
     },
     "output_type": "display_data"
    }
   ],
   "source": [
    "import matplotlib.pyplot as plt\n",
    "x_ = np.arange(50, 200, 10)\n",
    "y_ = result\n",
    "plt.plot(x_,y_)\n",
    "plt.show()"
   ]
  },
  {
   "cell_type": "markdown",
   "metadata": {},
   "source": [
    "# loss"
   ]
  },
  {
   "cell_type": "code",
   "execution_count": 85,
   "metadata": {},
   "outputs": [],
   "source": [
    "kFold = KFold(n_splits=5, shuffle=False)\n",
    "result = []\n",
    "for loss in ['LOG', 'EXP', 'MSE'] :\n",
    "    res = []\n",
    "    for train, test in kFold.split(X):\n",
    "        if loss == 'MSE':\n",
    "            X_train, X_test,y_train, y_test = X[train], X[test], y[train], y[test]\n",
    "        if loss == 'EXP': \n",
    "            X_train, X_test,y_train, y_test = X[train], X[test], y_1[train], y_1[test]\n",
    "        if loss == 'LOG': \n",
    "            X_train, X_test,y_train, y_test = X[train], X[test], y_1[train], y_1[test]\n",
    "    \n",
    "        scaler = StandardScaler()\n",
    "        \n",
    "        X_train = scaler.fit_transform(X_train)\n",
    "        \n",
    "        myclf = MyGradientBoostingClassifier(n_estimators=110,loss=loss,max_depth=6)\n",
    "      \n",
    "            \n",
    "        myclf.fit(X_train, y_train)\n",
    "\n",
    "        X_test = scaler.transform(X_test)\n",
    "        pred = myclf.predict(X_test)\n",
    "        \n",
    "        res.append(accuracy_score(y_test, pred))\n",
    "        \n",
    "    result.append((loss,np.mean(res)))"
   ]
  },
  {
   "cell_type": "code",
   "execution_count": 86,
   "metadata": {},
   "outputs": [
    {
     "data": {
      "text/plain": [
       "[('LOG', 0.8303779069767442),\n",
       " ('EXP', 0.8400678294573642),\n",
       " ('MSE', 0.8322674418604652)]"
      ]
     },
     "execution_count": 86,
     "metadata": {},
     "output_type": "execute_result"
    }
   ],
   "source": [
    "result"
   ]
  },
  {
   "cell_type": "markdown",
   "metadata": {},
   "source": [
    "# max_depth"
   ]
  },
  {
   "cell_type": "code",
   "execution_count": 87,
   "metadata": {},
   "outputs": [],
   "source": [
    "kFold = KFold(n_splits=5, shuffle=False)\n",
    "result = []\n",
    "for max_depth in range(4,10) :\n",
    "    res = []\n",
    "    for train, test in kFold.split(X):\n",
    "        \n",
    "        X_train, X_test,y_train, y_test = X[train], X[test], y[train], y[test]\n",
    "\n",
    "        scaler = StandardScaler()\n",
    "        \n",
    "        X_train = scaler.fit_transform(X_train)\n",
    "        \n",
    "        myclf = MyGradientBoostingClassifier(n_estimators=110,\n",
    "                                             learning_rate=0.05,\n",
    "                                             max_depth=max_depth)\n",
    "      \n",
    "        myclf.fit(X_train, y_train)\n",
    "\n",
    "        X_test = scaler.transform(X_test)\n",
    "        pred = myclf.predict(X_test)\n",
    "        \n",
    "        res.append(accuracy_score(y_test, pred))\n",
    "        \n",
    "    result.append((max_depth,np.mean(res)))"
   ]
  },
  {
   "cell_type": "code",
   "execution_count": 88,
   "metadata": {},
   "outputs": [
    {
     "data": {
      "text/plain": [
       "[(4, 0.8295542635658915),\n",
       " (5, 0.8376937984496123),\n",
       " (6, 0.8426356589147288),\n",
       " (7, 0.8426356589147288),\n",
       " (8, 0.8345930232558139),\n",
       " (9, 0.8378391472868219)]"
      ]
     },
     "execution_count": 88,
     "metadata": {},
     "output_type": "execute_result"
    }
   ],
   "source": [
    "result"
   ]
  },
  {
   "cell_type": "markdown",
   "metadata": {},
   "source": [
    "# learning rate"
   ]
  },
  {
   "cell_type": "code",
   "execution_count": 89,
   "metadata": {},
   "outputs": [],
   "source": [
    "kFold = KFold(n_splits=5, shuffle=False)\n",
    "result = []\n",
    "\n",
    "for learning_rate in  [0.05, 0.1, 0.3, 0.5]:\n",
    "    res = []\n",
    "    for train, test in kFold.split(X):\n",
    "\n",
    "    \n",
    "        X_train, X_test,y_train, y_test = X[train], X[test], y[train], y[test]\n",
    "           \n",
    "        scaler = StandardScaler()\n",
    "\n",
    "        X_train = scaler.fit_transform(X_train)\n",
    "\n",
    "        myclf = MyGradientBoostingClassifier(n_estimators=110,learning_rate=learning_rate,max_depth=7)\n",
    "\n",
    "\n",
    "        myclf.fit(X_train, y_train)\n",
    "\n",
    "        X_test = scaler.transform(X_test)\n",
    "        pred = myclf.predict(X_test)\n",
    "\n",
    "        res.append(accuracy_score(y_test, pred))\n",
    "\n",
    "    result.append((loss,learning_rate,np.mean(res)))"
   ]
  },
  {
   "cell_type": "code",
   "execution_count": 90,
   "metadata": {},
   "outputs": [
    {
     "data": {
      "text/plain": [
       "[('MSE', 0.05, 0.8346899224806201),\n",
       " ('MSE', 0.1, 0.8374031007751939),\n",
       " ('MSE', 0.3, 0.7715116279069767),\n",
       " ('MSE', 0.5, 0.6570251937984496)]"
      ]
     },
     "execution_count": 90,
     "metadata": {},
     "output_type": "execute_result"
    }
   ],
   "source": [
    "result"
   ]
  },
  {
   "cell_type": "markdown",
   "metadata": {},
   "source": [
    "# colsample"
   ]
  },
  {
   "cell_type": "code",
   "execution_count": 91,
   "metadata": {},
   "outputs": [],
   "source": [
    "kFold = KFold(n_splits=5, shuffle=False)\n",
    "result = []\n",
    "for colsample in [0.25, 0.5, 0.75, 1.0] :\n",
    "    res = []\n",
    "    for train, test in kFold.split(X):\n",
    "        \n",
    "        X_train, X_test,y_train, y_test = X[train], X[test], y[train], y[test]\n",
    "\n",
    "        scaler = StandardScaler()\n",
    "        \n",
    "        X_train = scaler.fit_transform(X_train)\n",
    "        \n",
    "        myclf = MyGradientBoostingClassifier(n_estimators=110,\n",
    "                                             colsample = colsample, \n",
    "                                             learning_rate=0.05,\n",
    "                                             max_depth=7)\n",
    "      \n",
    "            \n",
    "        myclf.fit(X_train, y_train)\n",
    "\n",
    "        X_test = scaler.transform(X_test)\n",
    "        pred = myclf.predict(X_test)\n",
    "        \n",
    "        res.append(accuracy_score(y_test, pred))\n",
    "        \n",
    "    result.append((colsample,np.mean(res)))"
   ]
  },
  {
   "cell_type": "code",
   "execution_count": 92,
   "metadata": {},
   "outputs": [
    {
     "data": {
      "text/plain": [
       "[(0.25, 0.8011143410852712),\n",
       " (0.5, 0.8276162790697674),\n",
       " (0.75, 0.8310562015503876),\n",
       " (1.0, 0.8417635658914728)]"
      ]
     },
     "execution_count": 92,
     "metadata": {},
     "output_type": "execute_result"
    }
   ],
   "source": [
    "result"
   ]
  },
  {
   "cell_type": "markdown",
   "metadata": {},
   "source": [
    "# subsample"
   ]
  },
  {
   "cell_type": "code",
   "execution_count": 93,
   "metadata": {},
   "outputs": [],
   "source": [
    "kFold = KFold(n_splits=5, shuffle=False)\n",
    "result = []\n",
    "for subsample in [0.25, 0.5, 0.75, 1.0] :\n",
    "    res = []\n",
    "    for train, test in kFold.split(X):\n",
    "    \n",
    "        X_train, X_test,y_train, y_test = X[train], X[test], y[train], y[test]\n",
    "       \n",
    "        scaler = StandardScaler()\n",
    "        \n",
    "        X_train = scaler.fit_transform(X_train)\n",
    "        \n",
    "        myclf = MyGradientBoostingClassifier(n_estimators=110,\n",
    "                                             subsample = subsample, \n",
    "                                             colsample = 0.75,\n",
    "                                             learning_rate=0.05,\n",
    "                                             max_depth=7)\n",
    "      \n",
    "            \n",
    "        myclf.fit(X_train, y_train)\n",
    "\n",
    "        X_test = scaler.transform(X_test)\n",
    "        pred = myclf.predict(X_test)\n",
    "        \n",
    "        res.append(accuracy_score(y_test, pred))\n",
    "        \n",
    "    result.append((subsample,np.mean(res)))"
   ]
  },
  {
   "cell_type": "code",
   "execution_count": 94,
   "metadata": {},
   "outputs": [
    {
     "data": {
      "text/plain": [
       "[(0.25, 0.831734496124031),\n",
       " (0.5, 0.8307170542635658),\n",
       " (0.75, 0.8363856589147286),\n",
       " (1.0, 0.8362403100775195)]"
      ]
     },
     "execution_count": 94,
     "metadata": {},
     "output_type": "execute_result"
    }
   ],
   "source": [
    "result"
   ]
  },
  {
   "cell_type": "markdown",
   "metadata": {
    "collapsed": true
   },
   "source": [
    "## Умная инициализация (1 балл)\n",
    "\n",
    "Попробуйте брать в качестве инициализации бустинга не константу, а какой-то алгоритм и уже от его предикта стартовать итерации бустинга. Попробуйте разные модели из sklearn: линейные модели, рандом форест, svm..\n",
    "\n",
    "Получилось ли улучшить качество? Почему?\n",
    "\n"
   ]
  },
  {
   "cell_type": "code",
   "execution_count": 95,
   "metadata": {},
   "outputs": [],
   "source": [
    "X_train, X_test, y_train, y_test = train_test_split(X, y, test_size=0.33, random_state=42)\n",
    "X_train_1, X_test_1, y_train_1, y_test_1 = train_test_split(X, y_1, test_size=0.33, random_state=42)"
   ]
  },
  {
   "cell_type": "code",
   "execution_count": 96,
   "metadata": {},
   "outputs": [
    {
     "data": {
      "text/plain": [
       "0.8881385789782736"
      ]
     },
     "execution_count": 96,
     "metadata": {},
     "output_type": "execute_result"
    }
   ],
   "source": [
    "clf = MyGradientBoostingClassifier(loss ='MSE', \n",
    "                                   n_estimators=110, \n",
    "                                   learning_rate=0.1, \n",
    "                                   max_depth= 5,\n",
    "                                   colsample=0.75,\n",
    "                                   subsample= 0.5)\n",
    "clf.fit(X_train, y_train, init_model=LinearRegression())\n",
    "y_pred = clf.predict(X_test)\n",
    "accuracy_score(y_pred, y_test)"
   ]
  },
  {
   "cell_type": "code",
   "execution_count": 97,
   "metadata": {},
   "outputs": [
    {
     "data": {
      "text/plain": [
       "0.8909277745155608"
      ]
     },
     "execution_count": 97,
     "metadata": {},
     "output_type": "execute_result"
    }
   ],
   "source": [
    "clf = MyGradientBoostingClassifier(loss ='MSE', \n",
    "                                   n_estimators=110, \n",
    "                                   learning_rate=0.1, \n",
    "                                   max_depth= 5,\n",
    "                                   colsample=0.75,\n",
    "                                   subsample= 0.5)\n",
    "clf.fit(X_train, y_train, init_model=SVC())\n",
    "y_pred = clf.predict(X_test)\n",
    "accuracy_score(y_pred, y_test)"
   ]
  },
  {
   "cell_type": "code",
   "execution_count": 98,
   "metadata": {},
   "outputs": [
    {
     "data": {
      "text/plain": [
       "0.8810921902524956"
      ]
     },
     "execution_count": 98,
     "metadata": {},
     "output_type": "execute_result"
    }
   ],
   "source": [
    "clf = MyGradientBoostingClassifier(loss ='MSE', \n",
    "                                   n_estimators=110, \n",
    "                                   learning_rate=0.1, \n",
    "                                   max_depth= 5,\n",
    "                                   colsample=0.75,\n",
    "                                   subsample= 0.5)\n",
    "clf.fit(X_train, y_train, init_model=RandomForestClassifier())\n",
    "y_pred = clf.predict(X_test)\n",
    "accuracy_score(y_pred, y_test)"
   ]
  },
  {
   "cell_type": "code",
   "execution_count": 99,
   "metadata": {},
   "outputs": [
    {
     "data": {
      "text/plain": [
       "0.8857897827363477"
      ]
     },
     "execution_count": 99,
     "metadata": {},
     "output_type": "execute_result"
    }
   ],
   "source": [
    "clf = MyGradientBoostingClassifier(loss ='EXP', \n",
    "                                   n_estimators=110, \n",
    "                                   learning_rate=0.1, \n",
    "                                   max_depth= 5,\n",
    "                                   colsample=0.75,\n",
    "                                   subsample= 0.5)\n",
    "clf.fit(X_train_1, y_train_1, init_model=LinearRegression())\n",
    "y_pred = clf.predict(X_test_1)\n",
    "accuracy_score(y_pred, y_test_1)"
   ]
  },
  {
   "cell_type": "code",
   "execution_count": 100,
   "metadata": {},
   "outputs": [
    {
     "data": {
      "text/plain": [
       "0.882413388138579"
      ]
     },
     "execution_count": 100,
     "metadata": {},
     "output_type": "execute_result"
    }
   ],
   "source": [
    "clf = MyGradientBoostingClassifier(loss ='EXP', \n",
    "                                   n_estimators=110, \n",
    "                                   learning_rate=0.1, \n",
    "                                   max_depth= 5,\n",
    "                                   colsample=0.75,\n",
    "                                   subsample= 0.5)\n",
    "clf.fit(X_train_1, y_train_1, init_model=SVC())\n",
    "y_pred = clf.predict(X_test_1)\n",
    "accuracy_score(y_pred, y_test_1)"
   ]
  },
  {
   "cell_type": "code",
   "execution_count": 101,
   "metadata": {},
   "outputs": [
    {
     "data": {
      "text/plain": [
       "0.8831473869641808"
      ]
     },
     "execution_count": 101,
     "metadata": {},
     "output_type": "execute_result"
    }
   ],
   "source": [
    "clf = MyGradientBoostingClassifier(loss ='EXP', \n",
    "                                   n_estimators=110, \n",
    "                                   learning_rate=0.1, \n",
    "                                   max_depth= 5,\n",
    "                                   colsample=0.75,\n",
    "                                   subsample= 0.5)\n",
    "clf.fit(X_train_1, y_train_1, init_model=RandomForestClassifier())\n",
    "y_pred = clf.predict(X_test_1)\n",
    "accuracy_score(y_pred, y_test_1)"
   ]
  },
  {
   "cell_type": "markdown",
   "metadata": {},
   "source": [
    "Мы действительно улучшили score."
   ]
  },
  {
   "cell_type": "markdown",
   "metadata": {},
   "source": [
    "## Фидбек (бесценно)"
   ]
  },
  {
   "cell_type": "markdown",
   "metadata": {},
   "source": [
    "* Какие аспекты обучения  ансамблей Вам показались непонятными? Какое место стоит дополнительно объяснить?"
   ]
  },
  {
   "cell_type": "markdown",
   "metadata": {},
   "source": [
    "### Ваш ответ здесь"
   ]
  },
  {
   "cell_type": "markdown",
   "metadata": {},
   "source": [
    "* Здесь Вы можете оставить отзыв о этой домашней работе или о всем курсе."
   ]
  },
  {
   "cell_type": "markdown",
   "metadata": {},
   "source": [
    "### ВАШ ОТЗЫВ ЗДЕСЬ\n",
    "\n"
   ]
  },
  {
   "cell_type": "code",
   "execution_count": null,
   "metadata": {},
   "outputs": [],
   "source": []
  },
  {
   "cell_type": "code",
   "execution_count": null,
   "metadata": {},
   "outputs": [],
   "source": []
  }
 ],
 "metadata": {
  "anaconda-cloud": {},
  "kernelspec": {
   "display_name": "Python 3",
   "language": "python",
   "name": "python3"
  },
  "language_info": {
   "codemirror_mode": {
    "name": "ipython",
    "version": 3
   },
   "file_extension": ".py",
   "mimetype": "text/x-python",
   "name": "python",
   "nbconvert_exporter": "python",
   "pygments_lexer": "ipython3",
   "version": "3.6.9"
  }
 },
 "nbformat": 4,
 "nbformat_minor": 2
}
